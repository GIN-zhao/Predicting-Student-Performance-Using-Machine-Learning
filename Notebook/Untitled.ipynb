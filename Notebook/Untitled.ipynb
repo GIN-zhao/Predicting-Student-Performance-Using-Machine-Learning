{
 "cells": [
  {
   "cell_type": "markdown",
   "id": "4cbc8d18",
   "metadata": {},
   "source": [
    "# Problem Statement"
   ]
  },
  {
   "cell_type": "markdown",
   "id": "2653d732",
   "metadata": {},
   "source": [
    "- This project understands how the stduents's performance in test score is affected by other variables such as Gender, Parental level of education, luch and prepration course."
   ]
  },
  {
   "cell_type": "markdown",
   "id": "2a1bb8bb",
   "metadata": {},
   "source": [
    "# Data Collection"
   ]
  }
 ],
 "metadata": {
  "kernelspec": {
   "display_name": "Python 3 (ipykernel)",
   "language": "python",
   "name": "python3"
  },
  "language_info": {
   "codemirror_mode": {
    "name": "ipython",
    "version": 3
   },
   "file_extension": ".py",
   "mimetype": "text/x-python",
   "name": "python",
   "nbconvert_exporter": "python",
   "pygments_lexer": "ipython3",
   "version": "3.9.13"
  }
 },
 "nbformat": 4,
 "nbformat_minor": 5
}
